{
 "cells": [
  {
   "cell_type": "code",
   "execution_count": 1,
   "metadata": {},
   "outputs": [],
   "source": [
    "#reading datasets\n",
    "import numpy as np\n",
    "import pandas as pd\n",
    "pgen = pd.read_stata(\"pgen.dta\")\n",
    "biol= pd.read_stata(\"biol.dta\")\n",
    "pequiv = pd.read_stata(\"pequiv.dta\")\n",
    "jungendl = pd.read_stata(\"jugendl.dta\")"
   ]
  },
  {
   "cell_type": "code",
   "execution_count": 2,
   "metadata": {},
   "outputs": [],
   "source": [
    "#extracting years of education and nationality of parents\n",
    "pgen_relevant = pgen.loc[:,['cid','pid','syear','pgbilzeit']]\n",
    "pgen_relevant.columns = ['cid','pid','syear','years_of_education']\n"
   ]
  },
  {
   "cell_type": "code",
   "execution_count": 3,
   "metadata": {},
   "outputs": [],
   "source": [
    "#extracting gender of parents\n",
    "pequiv_relevant=pequiv.loc[:,['cid','pid','syear','d11102ll']]\n",
    "pequiv_relevant.columns=['cid','pid','syear','sex_of_parents']\n"
   ]
  },
  {
   "cell_type": "code",
   "execution_count": 4,
   "metadata": {},
   "outputs": [],
   "source": [
    "#extracting migration control of parents,\n",
    "#note that one of them has low number of valid observations\n",
    "biol_relevant=biol.loc[:,['cid','pid','syear','lb0011','lb0013','lb0014']]\n",
    "biol_relevant.columns = ['cid','pid','syear','year_of_birth','born_in_germany','german_nationality']\n"
   ]
  },
  {
   "cell_type": "code",
   "execution_count": 5,
   "metadata": {},
   "outputs": [],
   "source": [
    "parents = pequiv_relevant.merge(pgen_relevant, how = 'left', on = ['cid','pid','syear'])"
   ]
  },
  {
   "cell_type": "code",
   "execution_count": 6,
   "metadata": {},
   "outputs": [],
   "source": [
    "parents_controls = parents.merge(biol_relevant, how = 'left', on = ['cid','pid','syear'])"
   ]
  },
  {
   "cell_type": "code",
   "execution_count": 7,
   "metadata": {},
   "outputs": [],
   "source": [
    "#Keep observation only in jungendl.\n",
    "childids = np.array(jungendl.cid).tolist()\n",
    "parents_controls_drop = parents_controls[parents_controls.cid.isin(childids)]"
   ]
  },
  {
   "cell_type": "code",
   "execution_count": 8,
   "metadata": {},
   "outputs": [],
   "source": [
    "#Replace all negative number into pd.np.nan.\n",
    "dict_n = {'[-1] keine Angabe': pd.np.nan, '[-8] Frage in diesem Jahr nicht Teil des Frageprograms': pd.np.nan, -2: pd.np.nan, -8:pd.np.nan, -1:pd.np.nan,\n",
    "          '[-5] In Fragebogenversion nicht enthalten':pd.np.nan, '[-2] trifft nicht zu':pd.np.nan}\n",
    "parents_control = parents_controls_drop.replace(dict_n)"
   ]
  },
  {
   "cell_type": "code",
   "execution_count": 11,
   "metadata": {},
   "outputs": [
    {
     "data": {
      "text/plain": [
       "Index(['cid', 'pid', 'syear', 'sex_of_parents', 'years_of_education',\n",
       "       'year_of_birth', 'born_in_germany', 'german_nationality'],\n",
       "      dtype='object')"
      ]
     },
     "execution_count": 11,
     "metadata": {},
     "output_type": "execute_result"
    }
   ],
   "source": [
    "#Replace all answer to value, easier for the research.\n",
    "dict_v = {'[1] Deutschland': 1, '[1] Male           1': 0, '[2] Female         2':1, '[2] ausserhalb Deutschlands':0 , '[1] Ja':1, '[2] Nein':2  }\n",
    "parents_control_replace = parents_control.replace(dict_v)\n",
    "parents_control_replace\n",
    "\n",
    "#Sex of parents: 0 = male, 1 = female\n",
    "#Born_in_germany: 1 = Yes, 0 = No\n",
    "#German Nationality: 1 = Yes, 0 = No"
   ]
  },
  {
   "cell_type": "code",
   "execution_count": 10,
   "metadata": {},
   "outputs": [],
   "source": [
    "#Output the clean data-set.\n",
    "parents_control_replace.to_csv(\"parent_control.csv\")"
   ]
  },
  {
   "cell_type": "code",
   "execution_count": 22,
   "metadata": {},
   "outputs": [],
   "source": [
    "mother_controls = parents_control_replace.loc[:,[ 'pid', 'syear', 'sex_of_parents', 'years_of_education',\n",
    "       'year_of_birth', 'born_in_germany', 'german_nationality']]\n",
    "\n",
    "mother_controls.columns=[ 'pid_mother', 'syear', 'sex_of_mother', 'years_of_education_mother',\n",
    "       'year_of_birth_mother', 'mother_born_in_germany', 'mother_german_nationality']"
   ]
  },
  {
   "cell_type": "code",
   "execution_count": 23,
   "metadata": {},
   "outputs": [],
   "source": [
    "mother_controls.to_csv(\"mother_controls.csv\")"
   ]
  },
  {
   "cell_type": "code",
   "execution_count": 24,
   "metadata": {},
   "outputs": [],
   "source": [
    "father_controls = parents_control_replace.loc[:,[ 'pid', 'syear', 'sex_of_parents', 'years_of_education',\n",
    "       'year_of_birth', 'born_in_germany', 'german_nationality']]\n",
    "\n",
    "father_controls.columns=[ 'pid_father', 'syear', 'sex_of_father', 'years_of_education_father',\n",
    "       'year_of_birth_father', 'father_born_in_germany', 'father_german_nationality']"
   ]
  },
  {
   "cell_type": "code",
   "execution_count": 25,
   "metadata": {},
   "outputs": [],
   "source": [
    "father_controls.to_csv(\"father_controls.csv\")"
   ]
  },
  {
   "cell_type": "code",
   "execution_count": null,
   "metadata": {},
   "outputs": [],
   "source": []
  }
 ],
 "metadata": {
  "kernelspec": {
   "display_name": "Python 3",
   "language": "python",
   "name": "python3"
  },
  "language_info": {
   "codemirror_mode": {
    "name": "ipython",
    "version": 3
   },
   "file_extension": ".py",
   "mimetype": "text/x-python",
   "name": "python",
   "nbconvert_exporter": "python",
   "pygments_lexer": "ipython3",
   "version": "3.7.0"
  }
 },
 "nbformat": 4,
 "nbformat_minor": 2
}
